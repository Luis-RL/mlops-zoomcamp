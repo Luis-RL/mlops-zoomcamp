{
 "cells": [
  {
   "cell_type": "markdown",
   "metadata": {},
   "source": [
    "# W1 Homework\n",
    "\n",
    "## Q1 Downloading the data\n",
    "\n",
    "Downlad jan / feb data files from the s3 bucket.."
   ]
  },
  {
   "cell_type": "code",
   "execution_count": 1,
   "metadata": {},
   "outputs": [],
   "source": [
    "import os\n",
    "from urllib import request\n",
    "from typing import List\n",
    "from pathlib import Path\n",
    "\n",
    "DATA_FILES: List[str] = [\n",
    " 'https://nyc-tlc.s3.amazonaws.com/trip+data/fhv_tripdata_2021-01.parquet', \n",
    " 'https://nyc-tlc.s3.amazonaws.com/trip+data/fhv_tripdata_2021-02.parquet' \n",
    "]\n",
    "\n",
    "LOCAL_DIR: str = './data'\n",
    "\n",
    "# Create the data dir if it doesnt exist\n",
    "Path(LOCAL_DIR).mkdir(parents=True, exist_ok=True)\n",
    "\n",
    "for fileurl in DATA_FILES:\n",
    "    filename = os.path.basename(fileurl)\n",
    "    outfile = os.path.join(LOCAL_DIR, filename)\n",
    "    request.urlretrieve(fileurl, filename=outfile)"
   ]
  },
  {
   "cell_type": "markdown",
   "metadata": {},
   "source": [
    "Use polars to read the data"
   ]
  },
  {
   "cell_type": "code",
   "execution_count": 9,
   "metadata": {},
   "outputs": [],
   "source": [
    "import polars as pl\n",
    "df_trip_data = pl.concat(\n",
    "    [pl.read_parquet(os.path.join(LOCAL_DIR, f)) \n",
    "     for f in os.listdir(LOCAL_DIR) if os.path.splitext(f)[1] == '.parquet'],\n",
    "    rechunk=True,\n",
    "    how='vertical' \n",
    ")"
   ]
  },
  {
   "cell_type": "code",
   "execution_count": 13,
   "metadata": {},
   "outputs": [
    {
     "data": {
      "text/plain": [
       "(1154112, 7)"
      ]
     },
     "execution_count": 13,
     "metadata": {},
     "output_type": "execute_result"
    }
   ],
   "source": [
    "import datetime\n",
    "df_trip_data.filter(pl.col('pickup_datetime') < datetime.datetime(2021,2,1)).shape"
   ]
  },
  {
   "cell_type": "markdown",
   "metadata": {},
   "source": [
    "Answer to the first question: 1154112 records.\n",
    "\n",
    "Let's double check it loading just the JAN file"
   ]
  },
  {
   "cell_type": "code",
   "execution_count": 14,
   "metadata": {},
   "outputs": [
    {
     "data": {
      "text/plain": [
       "(1154112, 7)"
      ]
     },
     "execution_count": 14,
     "metadata": {},
     "output_type": "execute_result"
    }
   ],
   "source": [
    "pl.read_parquet(os.path.join(LOCAL_DIR, 'fhv_tripdata_2021-01.parquet')).shape"
   ]
  },
  {
   "cell_type": "markdown",
   "metadata": {},
   "source": [
    "OK we're good ;) "
   ]
  },
  {
   "cell_type": "markdown",
   "metadata": {},
   "source": [
    "## Q2 Computing Duration"
   ]
  },
  {
   "cell_type": "code",
   "execution_count": 17,
   "metadata": {},
   "outputs": [
    {
     "data": {
      "text/html": [
       "<div>\n",
       "<style scoped>\n",
       "    .dataframe tbody tr th:only-of-type {\n",
       "        vertical-align: middle;\n",
       "    }\n",
       "\n",
       "    .dataframe tbody tr th {\n",
       "        vertical-align: top;\n",
       "    }\n",
       "\n",
       "    .dataframe thead th {\n",
       "        text-align: right;\n",
       "    }\n",
       "</style>\n",
       "<table border=\"1 \"class=\"dataframe \">\n",
       "<thead>\n",
       "<tr>\n",
       "<th>\n",
       "dispatching_base_num\n",
       "</th>\n",
       "<th>\n",
       "pickup_datetime\n",
       "</th>\n",
       "<th>\n",
       "dropOff_datetime\n",
       "</th>\n",
       "<th>\n",
       "PUlocationID\n",
       "</th>\n",
       "<th>\n",
       "DOlocationID\n",
       "</th>\n",
       "<th>\n",
       "SR_Flag\n",
       "</th>\n",
       "<th>\n",
       "Affiliated_base_number\n",
       "</th>\n",
       "<th>\n",
       "duration\n",
       "</th>\n",
       "</tr>\n",
       "<tr>\n",
       "<td>\n",
       "str\n",
       "</td>\n",
       "<td>\n",
       "datetime[ns]\n",
       "</td>\n",
       "<td>\n",
       "datetime[ns]\n",
       "</td>\n",
       "<td>\n",
       "f64\n",
       "</td>\n",
       "<td>\n",
       "f64\n",
       "</td>\n",
       "<td>\n",
       "i8\n",
       "</td>\n",
       "<td>\n",
       "str\n",
       "</td>\n",
       "<td>\n",
       "duration[ns]\n",
       "</td>\n",
       "</tr>\n",
       "</thead>\n",
       "<tbody>\n",
       "<tr>\n",
       "<td>\n",
       "\"B00009\"\n",
       "</td>\n",
       "<td>\n",
       "2021-01-01 00:27:00\n",
       "</td>\n",
       "<td>\n",
       "2021-01-01 00:44:00\n",
       "</td>\n",
       "<td>\n",
       "null\n",
       "</td>\n",
       "<td>\n",
       "null\n",
       "</td>\n",
       "<td>\n",
       "null\n",
       "</td>\n",
       "<td>\n",
       "\"B00009\"\n",
       "</td>\n",
       "<td>\n",
       "17 minutes\n",
       "</td>\n",
       "</tr>\n",
       "<tr>\n",
       "<td>\n",
       "\"B00009\"\n",
       "</td>\n",
       "<td>\n",
       "2021-01-01 00:50:00\n",
       "</td>\n",
       "<td>\n",
       "2021-01-01 01:07:00\n",
       "</td>\n",
       "<td>\n",
       "null\n",
       "</td>\n",
       "<td>\n",
       "null\n",
       "</td>\n",
       "<td>\n",
       "null\n",
       "</td>\n",
       "<td>\n",
       "\"B00009\"\n",
       "</td>\n",
       "<td>\n",
       "17 minutes\n",
       "</td>\n",
       "</tr>\n",
       "<tr>\n",
       "<td>\n",
       "\"B00013\"\n",
       "</td>\n",
       "<td>\n",
       "2021-01-01 00:01:00\n",
       "</td>\n",
       "<td>\n",
       "2021-01-01 01:51:00\n",
       "</td>\n",
       "<td>\n",
       "null\n",
       "</td>\n",
       "<td>\n",
       "null\n",
       "</td>\n",
       "<td>\n",
       "null\n",
       "</td>\n",
       "<td>\n",
       "\"B00013\"\n",
       "</td>\n",
       "<td>\n",
       "1 hour 50 minutes\n",
       "</td>\n",
       "</tr>\n",
       "<tr>\n",
       "<td>\n",
       "\"B00037\"\n",
       "</td>\n",
       "<td>\n",
       "2021-01-01 00:13:09\n",
       "</td>\n",
       "<td>\n",
       "2021-01-01 00:21:26\n",
       "</td>\n",
       "<td>\n",
       "null\n",
       "</td>\n",
       "<td>\n",
       "72.0\n",
       "</td>\n",
       "<td>\n",
       "null\n",
       "</td>\n",
       "<td>\n",
       "\"B00037\"\n",
       "</td>\n",
       "<td>\n",
       "8 minutes 17 seconds\n",
       "</td>\n",
       "</tr>\n",
       "<tr>\n",
       "<td>\n",
       "\"B00037\"\n",
       "</td>\n",
       "<td>\n",
       "2021-01-01 00:38:31\n",
       "</td>\n",
       "<td>\n",
       "2021-01-01 00:53:44\n",
       "</td>\n",
       "<td>\n",
       "null\n",
       "</td>\n",
       "<td>\n",
       "61.0\n",
       "</td>\n",
       "<td>\n",
       "null\n",
       "</td>\n",
       "<td>\n",
       "\"B00037\"\n",
       "</td>\n",
       "<td>\n",
       "15 minutes 13 seconds\n",
       "</td>\n",
       "</tr>\n",
       "</tbody>\n",
       "</table>\n",
       "</div>"
      ],
      "text/plain": [
       "shape: (5, 8)\n",
       "┌────────────┬────────────┬────────────┬────────────┬────────────┬─────────┬────────────┬──────────┐\n",
       "│ dispatchin ┆ pickup_dat ┆ dropOff_da ┆ PUlocation ┆ DOlocation ┆ SR_Flag ┆ Affiliated ┆ duration │\n",
       "│ g_base_num ┆ etime      ┆ tetime     ┆ ID         ┆ ID         ┆ ---     ┆ _base_numb ┆ ---      │\n",
       "│ ---        ┆ ---        ┆ ---        ┆ ---        ┆ ---        ┆ i8      ┆ er         ┆ duration │\n",
       "│ str        ┆ datetime[n ┆ datetime[n ┆ f64        ┆ f64        ┆         ┆ ---        ┆ [ns]     │\n",
       "│            ┆ s]         ┆ s]         ┆            ┆            ┆         ┆ str        ┆          │\n",
       "╞════════════╪════════════╪════════════╪════════════╪════════════╪═════════╪════════════╪══════════╡\n",
       "│ B00009     ┆ 2021-01-01 ┆ 2021-01-01 ┆ null       ┆ null       ┆ null    ┆ B00009     ┆ 17       │\n",
       "│            ┆ 00:27:00   ┆ 00:44:00   ┆            ┆            ┆         ┆            ┆ minutes  │\n",
       "├╌╌╌╌╌╌╌╌╌╌╌╌┼╌╌╌╌╌╌╌╌╌╌╌╌┼╌╌╌╌╌╌╌╌╌╌╌╌┼╌╌╌╌╌╌╌╌╌╌╌╌┼╌╌╌╌╌╌╌╌╌╌╌╌┼╌╌╌╌╌╌╌╌╌┼╌╌╌╌╌╌╌╌╌╌╌╌┼╌╌╌╌╌╌╌╌╌╌┤\n",
       "│ B00009     ┆ 2021-01-01 ┆ 2021-01-01 ┆ null       ┆ null       ┆ null    ┆ B00009     ┆ 17       │\n",
       "│            ┆ 00:50:00   ┆ 01:07:00   ┆            ┆            ┆         ┆            ┆ minutes  │\n",
       "├╌╌╌╌╌╌╌╌╌╌╌╌┼╌╌╌╌╌╌╌╌╌╌╌╌┼╌╌╌╌╌╌╌╌╌╌╌╌┼╌╌╌╌╌╌╌╌╌╌╌╌┼╌╌╌╌╌╌╌╌╌╌╌╌┼╌╌╌╌╌╌╌╌╌┼╌╌╌╌╌╌╌╌╌╌╌╌┼╌╌╌╌╌╌╌╌╌╌┤\n",
       "│ B00013     ┆ 2021-01-01 ┆ 2021-01-01 ┆ null       ┆ null       ┆ null    ┆ B00013     ┆ 1 hour   │\n",
       "│            ┆ 00:01:00   ┆ 01:51:00   ┆            ┆            ┆         ┆            ┆ 50       │\n",
       "│            ┆            ┆            ┆            ┆            ┆         ┆            ┆ minutes  │\n",
       "├╌╌╌╌╌╌╌╌╌╌╌╌┼╌╌╌╌╌╌╌╌╌╌╌╌┼╌╌╌╌╌╌╌╌╌╌╌╌┼╌╌╌╌╌╌╌╌╌╌╌╌┼╌╌╌╌╌╌╌╌╌╌╌╌┼╌╌╌╌╌╌╌╌╌┼╌╌╌╌╌╌╌╌╌╌╌╌┼╌╌╌╌╌╌╌╌╌╌┤\n",
       "│ B00037     ┆ 2021-01-01 ┆ 2021-01-01 ┆ null       ┆ 72.0       ┆ null    ┆ B00037     ┆ 8        │\n",
       "│            ┆ 00:13:09   ┆ 00:21:26   ┆            ┆            ┆         ┆            ┆ minutes  │\n",
       "│            ┆            ┆            ┆            ┆            ┆         ┆            ┆ 17       │\n",
       "│            ┆            ┆            ┆            ┆            ┆         ┆            ┆ seconds  │\n",
       "├╌╌╌╌╌╌╌╌╌╌╌╌┼╌╌╌╌╌╌╌╌╌╌╌╌┼╌╌╌╌╌╌╌╌╌╌╌╌┼╌╌╌╌╌╌╌╌╌╌╌╌┼╌╌╌╌╌╌╌╌╌╌╌╌┼╌╌╌╌╌╌╌╌╌┼╌╌╌╌╌╌╌╌╌╌╌╌┼╌╌╌╌╌╌╌╌╌╌┤\n",
       "│ B00037     ┆ 2021-01-01 ┆ 2021-01-01 ┆ null       ┆ 61.0       ┆ null    ┆ B00037     ┆ 15       │\n",
       "│            ┆ 00:38:31   ┆ 00:53:44   ┆            ┆            ┆         ┆            ┆ minutes  │\n",
       "│            ┆            ┆            ┆            ┆            ┆         ┆            ┆ 13       │\n",
       "│            ┆            ┆            ┆            ┆            ┆         ┆            ┆ seconds  │\n",
       "└────────────┴────────────┴────────────┴────────────┴────────────┴─────────┴────────────┴──────────┘"
      ]
     },
     "execution_count": 17,
     "metadata": {},
     "output_type": "execute_result"
    }
   ],
   "source": [
    "df_trip_data = (\n",
    "    df_trip_data\n",
    "    .with_column( (pl.col('dropOff_datetime') - pl.col('pickup_datetime')).alias('duration'))\n",
    ")\n",
    "df_trip_data.head(5)"
   ]
  },
  {
   "cell_type": "markdown",
   "metadata": {},
   "source": [
    "Compute the average duration in munutes"
   ]
  },
  {
   "cell_type": "code",
   "execution_count": 24,
   "metadata": {},
   "outputs": [
    {
     "data": {
      "text/html": [
       "<div>\n",
       "<style scoped>\n",
       "    .dataframe tbody tr th:only-of-type {\n",
       "        vertical-align: middle;\n",
       "    }\n",
       "\n",
       "    .dataframe tbody tr th {\n",
       "        vertical-align: top;\n",
       "    }\n",
       "\n",
       "    .dataframe thead th {\n",
       "        text-align: right;\n",
       "    }\n",
       "</style>\n",
       "<table border=\"1 \"class=\"dataframe \">\n",
       "<thead>\n",
       "<tr>\n",
       "<th>\n",
       "duration\n",
       "</th>\n",
       "</tr>\n",
       "<tr>\n",
       "<td>\n",
       "f64\n",
       "</td>\n",
       "</tr>\n",
       "</thead>\n",
       "<tbody>\n",
       "<tr>\n",
       "<td>\n",
       "19.167224\n",
       "</td>\n",
       "</tr>\n",
       "</tbody>\n",
       "</table>\n",
       "</div>"
      ],
      "text/plain": [
       "shape: (1, 1)\n",
       "┌───────────┐\n",
       "│ duration  │\n",
       "│ ---       │\n",
       "│ f64       │\n",
       "╞═══════════╡\n",
       "│ 19.167224 │\n",
       "└───────────┘"
      ]
     },
     "execution_count": 24,
     "metadata": {},
     "output_type": "execute_result"
    }
   ],
   "source": [
    "(df_trip_data\n",
    ".filter(pl.col('pickup_datetime') < datetime.datetime(2021,2,1))\n",
    "# Need to use seconds instead of minutes. dt.minutes() truncates the result.\n",
    ".select((pl.col('duration').dt.seconds()/60.0).mean())\n",
    ")"
   ]
  },
  {
   "cell_type": "markdown",
   "metadata": {},
   "source": [
    "Q2 - average trip duration in JAN 19.16 min (actually 19.167 ~ 19.17?)\n",
    "\n",
    "Drop 'outliers'  -> Keep only JAN trips where the duration is between 1 and 60 minutes"
   ]
  },
  {
   "cell_type": "code",
   "execution_count": 36,
   "metadata": {},
   "outputs": [
    {
     "name": "stdout",
     "output_type": "stream",
     "text": [
      "Dropped 44286 records\n"
     ]
    }
   ],
   "source": [
    "df_jan_nooutliers = (\n",
    "    df_trip_data\n",
    "    .filter(pl.col('pickup_datetime') < datetime.datetime(2021,2,1))\n",
    "    .filter(pl.col('duration').dt.seconds() <= (60*60.0))  # 60 min\n",
    "    .filter(pl.col('duration').dt.seconds() >= (1*60.0))  # 1 min\n",
    ")\n",
    "print('Dropped %d records' % (1154112 - df_jan_nooutliers.shape[0]))"
   ]
  },
  {
   "cell_type": "markdown",
   "metadata": {},
   "source": [
    "## Q3. Missing values\n",
    "\n",
    "What's the factions of missing values for the pickup location ID"
   ]
  },
  {
   "cell_type": "code",
   "execution_count": 37,
   "metadata": {},
   "outputs": [
    {
     "data": {
      "text/html": [
       "<div>\n",
       "<style scoped>\n",
       "    .dataframe tbody tr th:only-of-type {\n",
       "        vertical-align: middle;\n",
       "    }\n",
       "\n",
       "    .dataframe tbody tr th {\n",
       "        vertical-align: top;\n",
       "    }\n",
       "\n",
       "    .dataframe thead th {\n",
       "        text-align: right;\n",
       "    }\n",
       "</style>\n",
       "<table border=\"1 \"class=\"dataframe \">\n",
       "<thead>\n",
       "<tr>\n",
       "<th>\n",
       "dispatching_base_num\n",
       "</th>\n",
       "<th>\n",
       "pickup_datetime\n",
       "</th>\n",
       "<th>\n",
       "dropOff_datetime\n",
       "</th>\n",
       "<th>\n",
       "PUlocationID\n",
       "</th>\n",
       "<th>\n",
       "DOlocationID\n",
       "</th>\n",
       "<th>\n",
       "SR_Flag\n",
       "</th>\n",
       "<th>\n",
       "Affiliated_base_number\n",
       "</th>\n",
       "<th>\n",
       "duration\n",
       "</th>\n",
       "</tr>\n",
       "<tr>\n",
       "<td>\n",
       "f64\n",
       "</td>\n",
       "<td>\n",
       "f64\n",
       "</td>\n",
       "<td>\n",
       "f64\n",
       "</td>\n",
       "<td>\n",
       "f64\n",
       "</td>\n",
       "<td>\n",
       "f64\n",
       "</td>\n",
       "<td>\n",
       "f64\n",
       "</td>\n",
       "<td>\n",
       "f64\n",
       "</td>\n",
       "<td>\n",
       "f64\n",
       "</td>\n",
       "</tr>\n",
       "</thead>\n",
       "<tbody>\n",
       "<tr>\n",
       "<td>\n",
       "0.0\n",
       "</td>\n",
       "<td>\n",
       "0.0\n",
       "</td>\n",
       "<td>\n",
       "0.0\n",
       "</td>\n",
       "<td>\n",
       "0.835273\n",
       "</td>\n",
       "<td>\n",
       "0.1332\n",
       "</td>\n",
       "<td>\n",
       "1.0\n",
       "</td>\n",
       "<td>\n",
       "0.000697\n",
       "</td>\n",
       "<td>\n",
       "0.0\n",
       "</td>\n",
       "</tr>\n",
       "</tbody>\n",
       "</table>\n",
       "</div>"
      ],
      "text/plain": [
       "shape: (1, 8)\n",
       "┌────────────┬────────────┬────────────┬────────────┬────────────┬─────────┬────────────┬──────────┐\n",
       "│ dispatchin ┆ pickup_dat ┆ dropOff_da ┆ PUlocation ┆ DOlocation ┆ SR_Flag ┆ Affiliated ┆ duration │\n",
       "│ g_base_num ┆ etime      ┆ tetime     ┆ ID         ┆ ID         ┆ ---     ┆ _base_numb ┆ ---      │\n",
       "│ ---        ┆ ---        ┆ ---        ┆ ---        ┆ ---        ┆ f64     ┆ er         ┆ f64      │\n",
       "│ f64        ┆ f64        ┆ f64        ┆ f64        ┆ f64        ┆         ┆ ---        ┆          │\n",
       "│            ┆            ┆            ┆            ┆            ┆         ┆ f64        ┆          │\n",
       "╞════════════╪════════════╪════════════╪════════════╪════════════╪═════════╪════════════╪══════════╡\n",
       "│ 0.0        ┆ 0.0        ┆ 0.0        ┆ 0.835273   ┆ 0.1332     ┆ 1.0     ┆ 0.000697   ┆ 0.0      │\n",
       "└────────────┴────────────┴────────────┴────────────┴────────────┴─────────┴────────────┴──────────┘"
      ]
     },
     "execution_count": 37,
     "metadata": {},
     "output_type": "execute_result"
    }
   ],
   "source": [
    "df_jan_nooutliers.null_count()/(df_jan_nooutliers.shape[0] * 1.0)"
   ]
  },
  {
   "cell_type": "markdown",
   "metadata": {},
   "source": [
    "- 83.52% Missing PU Location ID\n",
    "- 13.32% Missing DO Location ID"
   ]
  },
  {
   "cell_type": "markdown",
   "metadata": {},
   "source": [
    "Replace null values -> -1"
   ]
  },
  {
   "cell_type": "code",
   "execution_count": 39,
   "metadata": {},
   "outputs": [
    {
     "data": {
      "text/html": [
       "<div>\n",
       "<style scoped>\n",
       "    .dataframe tbody tr th:only-of-type {\n",
       "        vertical-align: middle;\n",
       "    }\n",
       "\n",
       "    .dataframe tbody tr th {\n",
       "        vertical-align: top;\n",
       "    }\n",
       "\n",
       "    .dataframe thead th {\n",
       "        text-align: right;\n",
       "    }\n",
       "</style>\n",
       "<table border=\"1 \"class=\"dataframe \">\n",
       "<thead>\n",
       "<tr>\n",
       "<th>\n",
       "dispatching_base_num\n",
       "</th>\n",
       "<th>\n",
       "pickup_datetime\n",
       "</th>\n",
       "<th>\n",
       "dropOff_datetime\n",
       "</th>\n",
       "<th>\n",
       "PUlocationID\n",
       "</th>\n",
       "<th>\n",
       "DOlocationID\n",
       "</th>\n",
       "<th>\n",
       "SR_Flag\n",
       "</th>\n",
       "<th>\n",
       "Affiliated_base_number\n",
       "</th>\n",
       "<th>\n",
       "duration\n",
       "</th>\n",
       "</tr>\n",
       "<tr>\n",
       "<td>\n",
       "f64\n",
       "</td>\n",
       "<td>\n",
       "f64\n",
       "</td>\n",
       "<td>\n",
       "f64\n",
       "</td>\n",
       "<td>\n",
       "f64\n",
       "</td>\n",
       "<td>\n",
       "f64\n",
       "</td>\n",
       "<td>\n",
       "f64\n",
       "</td>\n",
       "<td>\n",
       "f64\n",
       "</td>\n",
       "<td>\n",
       "f64\n",
       "</td>\n",
       "</tr>\n",
       "</thead>\n",
       "<tbody>\n",
       "<tr>\n",
       "<td>\n",
       "0.0\n",
       "</td>\n",
       "<td>\n",
       "0.0\n",
       "</td>\n",
       "<td>\n",
       "0.0\n",
       "</td>\n",
       "<td>\n",
       "0.0\n",
       "</td>\n",
       "<td>\n",
       "0.0\n",
       "</td>\n",
       "<td>\n",
       "1.0\n",
       "</td>\n",
       "<td>\n",
       "0.000697\n",
       "</td>\n",
       "<td>\n",
       "0.0\n",
       "</td>\n",
       "</tr>\n",
       "</tbody>\n",
       "</table>\n",
       "</div>"
      ],
      "text/plain": [
       "shape: (1, 8)\n",
       "┌────────────┬────────────┬────────────┬────────────┬────────────┬─────────┬────────────┬──────────┐\n",
       "│ dispatchin ┆ pickup_dat ┆ dropOff_da ┆ PUlocation ┆ DOlocation ┆ SR_Flag ┆ Affiliated ┆ duration │\n",
       "│ g_base_num ┆ etime      ┆ tetime     ┆ ID         ┆ ID         ┆ ---     ┆ _base_numb ┆ ---      │\n",
       "│ ---        ┆ ---        ┆ ---        ┆ ---        ┆ ---        ┆ f64     ┆ er         ┆ f64      │\n",
       "│ f64        ┆ f64        ┆ f64        ┆ f64        ┆ f64        ┆         ┆ ---        ┆          │\n",
       "│            ┆            ┆            ┆            ┆            ┆         ┆ f64        ┆          │\n",
       "╞════════════╪════════════╪════════════╪════════════╪════════════╪═════════╪════════════╪══════════╡\n",
       "│ 0.0        ┆ 0.0        ┆ 0.0        ┆ 0.0        ┆ 0.0        ┆ 1.0     ┆ 0.000697   ┆ 0.0      │\n",
       "└────────────┴────────────┴────────────┴────────────┴────────────┴─────────┴────────────┴──────────┘"
      ]
     },
     "execution_count": 39,
     "metadata": {},
     "output_type": "execute_result"
    }
   ],
   "source": [
    "df_jan_nooutliers = (\n",
    "    df_jan_nooutliers.with_columns([\n",
    "        pl.col(col).fill_null(pl.lit(-1)).keep_name() \n",
    "        for col in ['PUlocationID', 'DOlocationID']\n",
    "    ])\n",
    ")\n",
    "# TODO: SHouldn't we do the same for the entire dataset (including feb)?\n",
    "df_jan_nooutliers.null_count()/(df_jan_nooutliers.shape[0] * 1.0)"
   ]
  },
  {
   "cell_type": "markdown",
   "metadata": {},
   "source": [
    "## Q4. One-hot encoding\n",
    "\n",
    "Let's apply one-hot encoding to the pickup and dropoff location IDs. We'll use only these two features for our model. \n",
    "\n",
    "* Turn the dataframe into a list of dictionaries\n",
    "* Fit a dictionary vectorizer \n",
    "* Get a feature matrix from it\n",
    "\n",
    "What's the dimensionality of this matrix? (The number of columns)\n",
    "\n",
    "[DictVectorizer Reference](https://scikit-learn.org/stable/modules/generated/sklearn.feature_extraction.DictVectorizer.html)\n",
    "> However, note that this transformer will only do a binary one-hot encoding when feature values are of type string. If categorical features are represented as numeric values such as int or iterables of strings, the DictVectorizer can be followed by OneHotEncoder to complete binary one-hot encoding.\n",
    "\n",
    "```note\n",
    "We could have used OneHotEncoder instead, but since the question explicitely asks for a dictionary vectorizer... let's do it this way\n",
    "``` "
   ]
  },
  {
   "cell_type": "code",
   "execution_count": 78,
   "metadata": {},
   "outputs": [
    {
     "name": "stdout",
     "output_type": "stream",
     "text": [
      "(1109826, 525)\n"
     ]
    }
   ],
   "source": [
    "from sklearn.feature_extraction import DictVectorizer\n",
    "dicts_jan_nooutliers = (\n",
    "    df_jan_nooutliers\n",
    "    .select(\n",
    "        [\n",
    "            pl.col('PUlocationID').cast(pl.Utf8).keep_name(),\n",
    "            pl.col('DOlocationID').cast(pl.Utf8).keep_name(), \n",
    "        ])\n",
    "    .to_dicts()\n",
    ")\n",
    "vectorizer = DictVectorizer(sparse=True) # Defaults are OK\n",
    "vectorized_jan_nooutliers = vectorizer.fit_transform(dicts_jan_nooutliers)\n",
    "print(vectorized_jan_nooutliers.shape)\n",
    "\n",
    "target = df_jan_nooutliers.select(pl.col('duration').dt.seconds()/60.0).to_numpy().flatten()"
   ]
  },
  {
   "cell_type": "markdown",
   "metadata": {},
   "source": [
    "Answer: 525 Columns"
   ]
  },
  {
   "cell_type": "markdown",
   "metadata": {},
   "source": [
    "## Q5. Training a model\n",
    "\n",
    "* Train a plain linear regression model with default parameters \n",
    "* Calculate the RMSE of the model on the training data\n"
   ]
  },
  {
   "cell_type": "code",
   "execution_count": 79,
   "metadata": {},
   "outputs": [
    {
     "name": "stdout",
     "output_type": "stream",
     "text": [
      "Train (JAN) RMSE: 10.529\n"
     ]
    }
   ],
   "source": [
    "from sklearn.linear_model import LinearRegression\n",
    "from sklearn.metrics import mean_squared_error\n",
    "\n",
    "lr = LinearRegression().fit(X=vectorized_jan_nooutliers, y=target)\n",
    "jan_preds_rmse = mean_squared_error(y_true=target, y_pred=lr.predict(vectorized_jan_nooutliers), squared=False)\n",
    "print('Train (JAN) RMSE: %.3f' % jan_preds_rmse)\n",
    "\n"
   ]
  },
  {
   "cell_type": "markdown",
   "metadata": {},
   "source": [
    "Answer: 10.52"
   ]
  },
  {
   "cell_type": "markdown",
   "metadata": {},
   "source": [
    "## Q6. Evaluating the model\n",
    "\n",
    "What's the RMSE on validation?\n",
    "\n",
    "Let's assume that Feb is validation. Before attempting to predict/evaluate anything we need to replicate the same preprocessing steps:\n",
    "\n",
    "1. Impute missing values to -1\n",
    "1. Remove outilers\n",
    "1. Encode IDs\n"
   ]
  },
  {
   "cell_type": "code",
   "execution_count": 80,
   "metadata": {},
   "outputs": [
    {
     "name": "stdout",
     "output_type": "stream",
     "text": [
      "(990113, 525)\n"
     ]
    }
   ],
   "source": [
    "df_feb = (\n",
    "    df_trip_data\n",
    "    .filter(pl.col('pickup_datetime') >= datetime.datetime(2021,2,1))\n",
    "    .filter(pl.col('duration').dt.seconds() <= (60*60.0))  # 60 min\n",
    "    .filter(pl.col('duration').dt.seconds() >= (1*60.0))  # 1 min\n",
    "    .select([\n",
    "        pl.col('PUlocationID').fill_null(pl.lit(-1)).cast(pl.Utf8).keep_name(),\n",
    "        pl.col('DOlocationID').fill_null(pl.lit(-1)).cast(pl.Utf8).keep_name(),\n",
    "        pl.col('duration')\n",
    "    ])\n",
    ")\n",
    "\n",
    "feb_target = df_feb.select(pl.col('duration').dt.seconds()/60.0).to_numpy().flatten()\n",
    "vectorized_feb = vectorizer.transform(df_feb.select(['PUlocationID','DOlocationID']).to_dicts())\n",
    "print(vectorized_feb.shape)"
   ]
  },
  {
   "cell_type": "code",
   "execution_count": 81,
   "metadata": {},
   "outputs": [
    {
     "name": "stdout",
     "output_type": "stream",
     "text": [
      "Validation (Feb) RMSE: 11.014\n"
     ]
    }
   ],
   "source": [
    "feb_preds_rmse = mean_squared_error(y_true=feb_target, y_pred=lr.predict(vectorized_feb), squared=False)\n",
    "print('Validation (Feb) RMSE: %.3f' % feb_preds_rmse)"
   ]
  },
  {
   "cell_type": "markdown",
   "metadata": {},
   "source": [
    "Ok, the output it's a little bit off of the 'accepted' answers. I will pick the closest one, but still there's something that's not right.\n",
    "\n",
    "Answer: 12.85"
   ]
  },
  {
   "cell_type": "markdown",
   "metadata": {},
   "source": [
    "## Extra stuff \n",
    "\n",
    "- How do we compare against the baseline (predict the mean)?\n",
    "- Do the residuals display any pattern?"
   ]
  },
  {
   "cell_type": "code",
   "execution_count": 82,
   "metadata": {},
   "outputs": [
    {
     "name": "stdout",
     "output_type": "stream",
     "text": [
      "DUMMY Train (JAN) RMSE: 11.551\n",
      "DUMMY Validation (Feb) RMSE: 11.973\n"
     ]
    }
   ],
   "source": [
    "from sklearn.dummy import DummyRegressor\n",
    "\n",
    "dr = DummyRegressor(strategy='mean').fit(X=vectorized_jan_nooutliers, y=target)\n",
    "\n",
    "jan_preds_rmse = mean_squared_error(y_true=target, y_pred=dr.predict(vectorized_jan_nooutliers), squared=False)\n",
    "print('DUMMY Train (JAN) RMSE: %.3f' % jan_preds_rmse)\n",
    "\n",
    "feb_preds_rmse = mean_squared_error(y_true=feb_target, y_pred=dr.predict(vectorized_feb), squared=False)\n",
    "print('DUMMY Validation (Feb) RMSE: %.3f' % feb_preds_rmse)"
   ]
  },
  {
   "cell_type": "markdown",
   "metadata": {},
   "source": [
    "Well, at least we improve predicting the mean a little bit. The R2 score should tell us the same..."
   ]
  },
  {
   "cell_type": "code",
   "execution_count": 83,
   "metadata": {},
   "outputs": [
    {
     "data": {
      "text/plain": [
       "0.1692734417965065"
      ]
     },
     "execution_count": 83,
     "metadata": {},
     "output_type": "execute_result"
    }
   ],
   "source": [
    "lr.score(X=vectorized_jan_nooutliers, y=target)"
   ]
  },
  {
   "cell_type": "markdown",
   "metadata": {},
   "source": [
    "### Inspect the residuals"
   ]
  },
  {
   "cell_type": "code",
   "execution_count": 93,
   "metadata": {},
   "outputs": [
    {
     "data": {
      "image/png": "[encoded data removed]",
      "text/plain": [
       "<Figure size 640x480 with 1 Axes>"
      ]
     },
     "metadata": {
      "needs_background": "light"
     },
     "output_type": "display_data"
    },
    {
     "data": {
      "text/plain": [
       "<ggplot: (8767716273460)>"
      ]
     },
     "execution_count": 93,
     "metadata": {},
     "output_type": "execute_result"
    }
   ],
   "source": [
    "import plotnine as gg\n",
    "import pandas as pd\n",
    "\n",
    "train_res = pd.DataFrame(dict(\n",
    "    y_true=target.flatten(),\n",
    "    y_pred=lr.predict(vectorized_jan_nooutliers),\n",
    "    residual=target.flatten()-lr.predict(vectorized_jan_nooutliers)\n",
    "))\n",
    "\n",
    "(\n",
    "    gg.ggplot(train_res.sample(25000), gg.aes(x='y_true', y='residual')) +\n",
    "    gg.geom_point(alpha=0.5) +\n",
    "    gg.theme_minimal()\n",
    ")"
   ]
  },
  {
   "cell_type": "code",
   "execution_count": 94,
   "metadata": {},
   "outputs": [
    {
     "data": {
      "image/png": "[encoded data removed]",
      "text/plain": [
       "<Figure size 640x480 with 1 Axes>"
      ]
     },
     "metadata": {
      "needs_background": "light"
     },
     "output_type": "display_data"
    },
    {
     "data": {
      "text/plain": [
       "<ggplot: (8767714313695)>"
      ]
     },
     "execution_count": 94,
     "metadata": {},
     "output_type": "execute_result"
    }
   ],
   "source": [
    "val_res = pd.DataFrame(dict(\n",
    "    y_true=feb_target.flatten(),\n",
    "    y_pred=lr.predict(vectorized_feb),\n",
    "    residual=feb_target.flatten()-lr.predict(vectorized_feb)\n",
    "))\n",
    "\n",
    "(\n",
    "    gg.ggplot(val_res.sample(25000), gg.aes(x='y_true', y='residual')) +\n",
    "    gg.geom_point(alpha=0.5) +\n",
    "    gg.theme_minimal()\n",
    ")"
   ]
  },
  {
   "cell_type": "code",
   "execution_count": null,
   "metadata": {},
   "outputs": [],
   "source": []
  }
 ],
 "metadata": {
  "interpreter": {
   "hash": "35fc2474a41225fdfc5a82b8d4b36be5ec37564613048fa4cf93041ff7bcfe16"
  },
  "kernelspec": {
   "display_name": "Python 3 (ipykernel)",
   "language": "python",
   "name": "python3"
  },
  "language_info": {
   "codemirror_mode": {
    "name": "ipython",
    "version": 3
   },
   "file_extension": ".py",
   "mimetype": "text/x-python",
   "name": "python",
   "nbconvert_exporter": "python",
   "pygments_lexer": "ipython3",
   "version": "3.9.5"
  }
 },
 "nbformat": 4,
 "nbformat_minor": 4
}
